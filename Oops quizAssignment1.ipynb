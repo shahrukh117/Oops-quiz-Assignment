{
 "cells": [
  {
   "cell_type": "markdown",
   "id": "683cf35f-335a-4cd9-9661-2cda41f825a1",
   "metadata": {},
   "source": [
    "### Q1, Create a vehicle class with an init method having instance variables as name_of_vehicle, max_speed and average_of_vehicle."
   ]
  },
  {
   "cell_type": "code",
   "execution_count": 1,
   "id": "c0fe5538-295b-4041-85be-bb2666138adc",
   "metadata": {},
   "outputs": [
    {
     "name": "stdout",
     "output_type": "stream",
     "text": [
      "innova 220 40\n"
     ]
    }
   ],
   "source": [
    "class Vehicle:\n",
    "    def __init__(self, name, max_speed, average):\n",
    "        self.name = name\n",
    "        self.max_speed = max_speed\n",
    "        self.average = average\n",
    "        \n",
    "        \n",
    "car = Vehicle(\"innova\",220, 40)\n",
    "print(car.name,car.max_speed, car.average)"
   ]
  },
  {
   "cell_type": "code",
   "execution_count": 2,
   "id": "fef4af96-d8ea-4846-b075-b83feb008fb7",
   "metadata": {},
   "outputs": [],
   "source": [
    "class Vehicle:\n",
    "    def __init__(self, name, max_speed, average):\n",
    "        self.name = name\n",
    "        self.max_speed = max_speed\n",
    "        self.average = average\n",
    "    def return_details(self):\n",
    "        return self.name, self.max_speed, self.average"
   ]
  },
  {
   "cell_type": "code",
   "execution_count": 3,
   "id": "18719701-a2ba-4f36-ada7-9aba14a4aa1f",
   "metadata": {},
   "outputs": [],
   "source": [
    "car = Vehicle(\"innova\",220, 40)"
   ]
  },
  {
   "cell_type": "code",
   "execution_count": 4,
   "id": "c35f2dcf-1e1c-4d83-83e2-acef3368312d",
   "metadata": {},
   "outputs": [
    {
     "data": {
      "text/plain": [
       "'innova'"
      ]
     },
     "execution_count": 4,
     "metadata": {},
     "output_type": "execute_result"
    }
   ],
   "source": [
    "car.name"
   ]
  },
  {
   "cell_type": "code",
   "execution_count": 5,
   "id": "1da764c8-fe6f-46c5-a896-58bddf7541b9",
   "metadata": {},
   "outputs": [
    {
     "data": {
      "text/plain": [
       "220"
      ]
     },
     "execution_count": 5,
     "metadata": {},
     "output_type": "execute_result"
    }
   ],
   "source": [
    "car.max_speed"
   ]
  },
  {
   "cell_type": "code",
   "execution_count": 6,
   "id": "0a04d446-d353-4cd4-b1d6-df55fbc9c44d",
   "metadata": {},
   "outputs": [
    {
     "data": {
      "text/plain": [
       "40"
      ]
     },
     "execution_count": 6,
     "metadata": {},
     "output_type": "execute_result"
    }
   ],
   "source": [
    "car.average"
   ]
  },
  {
   "cell_type": "code",
   "execution_count": 7,
   "id": "e111b23e-9692-487b-b3d5-4d912cd03fca",
   "metadata": {},
   "outputs": [
    {
     "ename": "SyntaxError",
     "evalue": "invalid syntax (2885851785.py, line 2)",
     "output_type": "error",
     "traceback": [
      "\u001b[0;36m  Cell \u001b[0;32mIn[7], line 2\u001b[0;36m\u001b[0m\n\u001b[0;31m    def\u001b[0m\n\u001b[0m        ^\u001b[0m\n\u001b[0;31mSyntaxError\u001b[0m\u001b[0;31m:\u001b[0m invalid syntax\n"
     ]
    }
   ],
   "source": [
    "class vehicle:\n",
    "    def "
   ]
  },
  {
   "cell_type": "code",
   "execution_count": 8,
   "id": "8c40b5fb-0028-4201-921a-45d57ea6a27c",
   "metadata": {},
   "outputs": [],
   "source": [
    "class Vehicle:\n",
    "    def __init__(self, name_of_vehicle, max_speed, capacity):\n",
    "        self.name_of_vehicle = name_of_vehicle\n",
    "        self.max_speed = max_speed\n",
    "        self.capacity = capacity\n",
    "\n",
    "class car(Vehicle):\n",
    "    pass\n",
    "\n",
    "car_obj = car(\"School Van\", 40, 50)"
   ]
  },
  {
   "cell_type": "code",
   "execution_count": 9,
   "id": "2c7dc94d-af81-4cdd-98c5-787e56104a55",
   "metadata": {},
   "outputs": [
    {
     "data": {
      "text/plain": [
       "'School Van'"
      ]
     },
     "execution_count": 9,
     "metadata": {},
     "output_type": "execute_result"
    }
   ],
   "source": [
    "car_obj.name_of_vehicle"
   ]
  },
  {
   "cell_type": "code",
   "execution_count": 10,
   "id": "3f550a4b-77d8-4392-b507-ff49f415573f",
   "metadata": {},
   "outputs": [
    {
     "data": {
      "text/plain": [
       "40"
      ]
     },
     "execution_count": 10,
     "metadata": {},
     "output_type": "execute_result"
    }
   ],
   "source": [
    "car_obj.max_speed"
   ]
  },
  {
   "cell_type": "code",
   "execution_count": 11,
   "id": "394da074-5ef9-45a6-90c8-91550b91687b",
   "metadata": {},
   "outputs": [
    {
     "data": {
      "text/plain": [
       "50"
      ]
     },
     "execution_count": 11,
     "metadata": {},
     "output_type": "execute_result"
    }
   ],
   "source": [
    "car_obj.capacity"
   ]
  },
  {
   "cell_type": "markdown",
   "id": "91a8a103-4504-48c3-986a-ffb37d03eac5",
   "metadata": {},
   "source": [
    "### Q2. Create a child class car from the vehicle class created in Que 1, which will inherit the vehicle class.Create a method named seating_capacity which takes capacity as an argument and returns the name of the vehicle and its seating capacity."
   ]
  },
  {
   "cell_type": "code",
   "execution_count": 12,
   "id": "79fcaf1c-6057-4adf-81ff-74b96eb91d18",
   "metadata": {},
   "outputs": [
    {
     "name": "stdout",
     "output_type": "stream",
     "text": [
      "Total seating capacity is: 10\n"
     ]
    }
   ],
   "source": [
    "class Vehicle:\n",
    "    def __init__(self, name_of_vehicle, max_speed, capacity):\n",
    "        self.name_of_vehicle = name_of_vehicle\n",
    "        self.max_speed = max_speed\n",
    "        self.capacity = capacity\n",
    "\n",
    "    def seating_capacity(self):\n",
    "        return self.capacity * 1\n",
    "\n",
    "class car(Vehicle):\n",
    "    pass\n",
    "\n",
    "car_obj = car(\"Bolero\", 120, 10)\n",
    "print(\"Total seating capacity is:\", car_obj.seating_capacity())"
   ]
  },
  {
   "cell_type": "code",
   "execution_count": 13,
   "id": "be52c976-da44-454c-9cc2-9c81d5a40b60",
   "metadata": {},
   "outputs": [
    {
     "name": "stdout",
     "output_type": "stream",
     "text": [
      "name of vehicle is: Bolero\n"
     ]
    }
   ],
   "source": [
    "print(\"name of vehicle is:\", car_obj.name_of_vehicle)"
   ]
  },
  {
   "cell_type": "code",
   "execution_count": 14,
   "id": "9286e914-6035-4fde-bffc-fe963546ae87",
   "metadata": {},
   "outputs": [
    {
     "data": {
      "text/plain": [
       "'Bolero'"
      ]
     },
     "execution_count": 14,
     "metadata": {},
     "output_type": "execute_result"
    }
   ],
   "source": [
    "car_obj.name_of_vehicle"
   ]
  },
  {
   "cell_type": "code",
   "execution_count": 15,
   "id": "1cc478eb-f320-4076-a372-d31312335e44",
   "metadata": {},
   "outputs": [
    {
     "data": {
      "text/plain": [
       "120"
      ]
     },
     "execution_count": 15,
     "metadata": {},
     "output_type": "execute_result"
    }
   ],
   "source": [
    "car_obj.max_speed"
   ]
  },
  {
   "cell_type": "code",
   "execution_count": 16,
   "id": "19ad6127-11dd-4d8a-adb1-d6a107608b3b",
   "metadata": {},
   "outputs": [
    {
     "data": {
      "text/plain": [
       "10"
      ]
     },
     "execution_count": 16,
     "metadata": {},
     "output_type": "execute_result"
    }
   ],
   "source": [
    "car_obj.capacity"
   ]
  },
  {
   "cell_type": "code",
   "execution_count": 17,
   "id": "fee215d9-e9bc-4fdd-8f90-6deda7294215",
   "metadata": {},
   "outputs": [
    {
     "name": "stdout",
     "output_type": "stream",
     "text": [
      "Total Bus fare is: 5000\n"
     ]
    }
   ],
   "source": [
    "class Vehicle:\n",
    "    def __init__(self, name, mileage, capacity):\n",
    "        self.name = name\n",
    "        self.mileage = mileage\n",
    "        self.capacity = capacity\n",
    "\n",
    "    def fare(self):\n",
    "        return self.capacity * 100\n",
    "\n",
    "class Bus(Vehicle):\n",
    "    pass\n",
    "\n",
    "School_bus = Bus(\"School Volvo\", 12, 50)\n",
    "print(\"Total Bus fare is:\", School_bus.fare())"
   ]
  },
  {
   "cell_type": "markdown",
   "id": "eddc86de-4bc3-49e2-86a4-b1228faf251d",
   "metadata": {},
   "source": [
    "### Q3. What is multiple inheritance? Write a python code to demonstrate multiple inheritance."
   ]
  },
  {
   "cell_type": "markdown",
   "id": "b8289247-1d49-4ce4-91f6-5bf6065c5e99",
   "metadata": {},
   "source": [
    "### Multiple Inheritance: \n",
    "When child class is derived or inherited from more than one parent class. This is called multiple inheritance. In multiple inheritance, we have two parent classes/base classes and one child class that inherits both parent classes properties"
   ]
  },
  {
   "cell_type": "markdown",
   "id": "5f99f521-5ddf-46a2-b13d-b6b26887333e",
   "metadata": {},
   "source": [
    "#### Example"
   ]
  },
  {
   "cell_type": "code",
   "execution_count": 18,
   "id": "86797669-0fb9-4326-9e68-3be9f0ac801a",
   "metadata": {},
   "outputs": [
    {
     "name": "stdout",
     "output_type": "stream",
     "text": [
      "Dad sings well\n",
      "Mom codes well\n",
      "Child likes to play\n"
     ]
    }
   ],
   "source": [
    "# creating class for father\n",
    "class Dad:\n",
    "    \n",
    "    # method for parent class 1\n",
    "    def singing(self):\n",
    "        print(\"Dad sings well\")\n",
    "        \n",
    "# creating class for mother\n",
    "class Mom:\n",
    "    \n",
    "    # method for parent class 2\n",
    "    def coding(self):\n",
    "        print(\"Mom codes well\")\n",
    "        \n",
    "# creating  drived class\n",
    "class Child(Dad, Mom):\n",
    "    \n",
    "    # method for child class\n",
    "    def playing(self):\n",
    "        print(\"Child likes to play\")\n",
    "\n",
    "# creating object of the new derived class        \n",
    "obj_child = Child()\n",
    "\n",
    "# calling methods of parent classes and derived class\n",
    "obj_child.singing()\n",
    "obj_child.coding()\n",
    "obj_child.playing()"
   ]
  },
  {
   "cell_type": "markdown",
   "id": "10b3c9e8-b2b2-413c-81ec-f696892b871b",
   "metadata": {},
   "source": [
    "#### Q4. What are getter and setter in python? Create a class and create a getter and a setter method in this class."
   ]
  },
  {
   "cell_type": "markdown",
   "id": "891cab30-f2cd-436d-9a72-73a8c98bf2bc",
   "metadata": {},
   "source": [
    "#### Getters: \n",
    "These are the methods used in Object-Oriented Programming (OOPS) which helps to access the private attributes from a class."
   ]
  },
  {
   "cell_type": "markdown",
   "id": "23ad89ea-3be8-4eeb-a4a2-3bc491229b28",
   "metadata": {},
   "source": [
    "### Setters: \n",
    "These are the methods used in OOPS feature which helps to set the value to private attributes in a class."
   ]
  },
  {
   "cell_type": "code",
   "execution_count": 19,
   "id": "0404d0b9-8cc4-426b-a310-84299db1b41b",
   "metadata": {},
   "outputs": [],
   "source": [
    "class School:\n",
    "    def __init__(self, course_name, course_fees):\n",
    "        self.course_name = course_name\n",
    "        self.__course_fees = course_fees\n",
    "        \n",
    "    @property\n",
    "    def course_fees_acces(self):\n",
    "        return self.__course_fees\n",
    "    \n",
    "    @course_fees_acces.setter\n",
    "    def course_fees_set(self,fees):\n",
    "        if fees <= 4000:\n",
    "            pass\n",
    "        else:\n",
    "            self.__course_fees = fees\n",
    "            "
   ]
  },
  {
   "cell_type": "code",
   "execution_count": 20,
   "id": "515649e5-059c-4c4f-93fd-bc8c6a1595a7",
   "metadata": {},
   "outputs": [],
   "source": [
    "s = School(\"Data science\",3500)"
   ]
  },
  {
   "cell_type": "code",
   "execution_count": 21,
   "id": "9acae1a9-746b-4606-a421-dba612e5fab8",
   "metadata": {},
   "outputs": [
    {
     "data": {
      "text/plain": [
       "3500"
      ]
     },
     "execution_count": 21,
     "metadata": {},
     "output_type": "execute_result"
    }
   ],
   "source": [
    "s._School__course_fees"
   ]
  },
  {
   "cell_type": "code",
   "execution_count": 22,
   "id": "28cb581e-4b44-4acb-981b-823c618d823c",
   "metadata": {},
   "outputs": [
    {
     "data": {
      "text/plain": [
       "3500"
      ]
     },
     "execution_count": 22,
     "metadata": {},
     "output_type": "execute_result"
    }
   ],
   "source": [
    "s.course_fees_acces"
   ]
  },
  {
   "cell_type": "code",
   "execution_count": 23,
   "id": "d4bacdfa-ac7a-4805-8f34-77e540a0389b",
   "metadata": {},
   "outputs": [],
   "source": [
    "s.course_fees_set = 5000"
   ]
  },
  {
   "cell_type": "code",
   "execution_count": 24,
   "id": "c3761b6f-c992-4058-8f46-301e74e7114e",
   "metadata": {},
   "outputs": [
    {
     "data": {
      "text/plain": [
       "5000"
      ]
     },
     "execution_count": 24,
     "metadata": {},
     "output_type": "execute_result"
    }
   ],
   "source": [
    "s.course_fees_acces"
   ]
  },
  {
   "cell_type": "code",
   "execution_count": 25,
   "id": "fc5b0bbe-0f1c-4275-b522-17939418f89b",
   "metadata": {},
   "outputs": [],
   "source": [
    "s.course_fees_set = 3000"
   ]
  },
  {
   "cell_type": "code",
   "execution_count": 26,
   "id": "a08f1fe1-99d2-46f0-b59f-0bbab395c991",
   "metadata": {},
   "outputs": [
    {
     "data": {
      "text/plain": [
       "5000"
      ]
     },
     "execution_count": 26,
     "metadata": {},
     "output_type": "execute_result"
    }
   ],
   "source": [
    "s.course_fees_acces"
   ]
  },
  {
   "cell_type": "code",
   "execution_count": 27,
   "id": "5dc63b4f-212f-4105-9023-983d25c27c3c",
   "metadata": {},
   "outputs": [],
   "source": [
    "class School:\n",
    "    def __init__(self, course_name, course_fees):\n",
    "        self.course_name = course_name\n",
    "        self.__course_fees = course_fees\n",
    "        \n",
    "    @property\n",
    "    def course_fees_acces(self):\n",
    "        return self.__course_fees\n",
    "    \n",
    "    @course_fees_acces.setter\n",
    "    def course_fees_set(self,fees):\n",
    "        if fees <= 4000:\n",
    "            pass\n",
    "        else:\n",
    "            self.__course_fees = fees\n",
    "            \n",
    "    @course_fees_acces.deleter\n",
    "    def delete_course_fees(self):\n",
    "        del self.__course_fees"
   ]
  },
  {
   "cell_type": "code",
   "execution_count": 28,
   "id": "e946045a-4545-4796-867b-c1982d54c446",
   "metadata": {},
   "outputs": [],
   "source": [
    "s = School(\"Data science\",3500)"
   ]
  },
  {
   "cell_type": "code",
   "execution_count": 29,
   "id": "4f7616cb-d74f-42d1-ab3e-8a12ecf1123f",
   "metadata": {},
   "outputs": [
    {
     "data": {
      "text/plain": [
       "3500"
      ]
     },
     "execution_count": 29,
     "metadata": {},
     "output_type": "execute_result"
    }
   ],
   "source": [
    "s.course_fees_acces"
   ]
  },
  {
   "cell_type": "code",
   "execution_count": 30,
   "id": "a1e77e8b-8bc7-4d9b-82ac-570ce9b709ac",
   "metadata": {},
   "outputs": [],
   "source": [
    "del s. delete_course_fees"
   ]
  },
  {
   "cell_type": "code",
   "execution_count": 31,
   "id": "735fc41e-027d-4302-9fc8-592c8436f0c0",
   "metadata": {},
   "outputs": [
    {
     "ename": "AttributeError",
     "evalue": "'School' object has no attribute '_School__course_fees'",
     "output_type": "error",
     "traceback": [
      "\u001b[0;31m---------------------------------------------------------------------------\u001b[0m",
      "\u001b[0;31mAttributeError\u001b[0m                            Traceback (most recent call last)",
      "Cell \u001b[0;32mIn[31], line 1\u001b[0m\n\u001b[0;32m----> 1\u001b[0m \u001b[43ms\u001b[49m\u001b[38;5;241;43m.\u001b[39;49m\u001b[43mcourse_fees_acces\u001b[49m\n",
      "Cell \u001b[0;32mIn[27], line 8\u001b[0m, in \u001b[0;36mSchool.course_fees_acces\u001b[0;34m(self)\u001b[0m\n\u001b[1;32m      6\u001b[0m \u001b[38;5;129m@property\u001b[39m\n\u001b[1;32m      7\u001b[0m \u001b[38;5;28;01mdef\u001b[39;00m \u001b[38;5;21mcourse_fees_acces\u001b[39m(\u001b[38;5;28mself\u001b[39m):\n\u001b[0;32m----> 8\u001b[0m     \u001b[38;5;28;01mreturn\u001b[39;00m \u001b[38;5;28;43mself\u001b[39;49m\u001b[38;5;241;43m.\u001b[39;49m\u001b[43m__course_fees\u001b[49m\n",
      "\u001b[0;31mAttributeError\u001b[0m: 'School' object has no attribute '_School__course_fees'"
     ]
    }
   ],
   "source": [
    "s.course_fees_acces"
   ]
  },
  {
   "cell_type": "markdown",
   "id": "076188d6-e27c-465f-843c-a2ab7bed82b1",
   "metadata": {},
   "source": [
    "### Q5.What is method overriding in python? Write a python code to demonstrate method overriding."
   ]
  },
  {
   "cell_type": "markdown",
   "id": "84067693-4eeb-4442-b9c7-9a424908a6fe",
   "metadata": {},
   "source": [
    "### Method Overriding in Python"
   ]
  },
  {
   "cell_type": "markdown",
   "id": "bb920369-a4e4-4ef1-b358-59b56db74a92",
   "metadata": {},
   "source": [
    "Method overriding is a concept of object oriented programming that allows us to change the implementation of a function in the child class that is defined in the parent class. It is the ability of a child class to change the implementation of any method which is already provided by one of its parent class(ancestors)."
   ]
  },
  {
   "cell_type": "code",
   "execution_count": 32,
   "id": "3bdada84-b331-4d4d-96af-b887c5a017df",
   "metadata": {},
   "outputs": [],
   "source": [
    "class Parent:\n",
    "    def get_name(self,name):\n",
    "        self.name = name\n",
    "        \n",
    "    def show_name(self):\n",
    "        return self.name"
   ]
  },
  {
   "cell_type": "code",
   "execution_count": 33,
   "id": "6fd62465-4610-49f2-a499-155d7ce40e55",
   "metadata": {},
   "outputs": [],
   "source": [
    "class Child(Parent):\n",
    "    def get_age(self,age):\n",
    "        self.age = age\n",
    "    def show_age(self):\n",
    "        return self.age"
   ]
  },
  {
   "cell_type": "code",
   "execution_count": 34,
   "id": "df79621b-b4a8-4bdb-88f4-8c6d31652827",
   "metadata": {},
   "outputs": [],
   "source": [
    "class Grandchild(Child):\n",
    "    def get_gender(self,gender):\n",
    "        self.gender = gender\n",
    "    def show_gender(self):\n",
    "        return self.gender"
   ]
  },
  {
   "cell_type": "code",
   "execution_count": 35,
   "id": "469ce5c0-ace9-4c38-8855-4be0ebe772de",
   "metadata": {},
   "outputs": [],
   "source": [
    "g1 = Grandchild()"
   ]
  },
  {
   "cell_type": "code",
   "execution_count": 36,
   "id": "b07d390e-88c3-4f11-a75d-7178b3f734f4",
   "metadata": {},
   "outputs": [],
   "source": [
    "g1.get_name(\"shahrukh\")"
   ]
  },
  {
   "cell_type": "code",
   "execution_count": 37,
   "id": "1cc25845-8c13-4eb2-abd7-80b2d8195afc",
   "metadata": {},
   "outputs": [],
   "source": [
    "g1.get_age(23)"
   ]
  },
  {
   "cell_type": "code",
   "execution_count": 38,
   "id": "b6800b43-c096-432a-8de2-b89c01d8dc59",
   "metadata": {},
   "outputs": [],
   "source": [
    "g1.get_gender(\"male\")"
   ]
  },
  {
   "cell_type": "code",
   "execution_count": 39,
   "id": "3bf6d0d0-0609-46f0-aefa-8013ee05e239",
   "metadata": {},
   "outputs": [
    {
     "data": {
      "text/plain": [
       "'shahrukh'"
      ]
     },
     "execution_count": 39,
     "metadata": {},
     "output_type": "execute_result"
    }
   ],
   "source": [
    "g1.show_name()"
   ]
  },
  {
   "cell_type": "code",
   "execution_count": 40,
   "id": "22bf01ac-db69-423c-8b58-03651c16bbfb",
   "metadata": {},
   "outputs": [
    {
     "data": {
      "text/plain": [
       "23"
      ]
     },
     "execution_count": 40,
     "metadata": {},
     "output_type": "execute_result"
    }
   ],
   "source": [
    "g1.show_age()"
   ]
  },
  {
   "cell_type": "code",
   "execution_count": 41,
   "id": "1e79ac2e-b70c-4a3d-bf46-0d0aa2e99d5a",
   "metadata": {},
   "outputs": [
    {
     "data": {
      "text/plain": [
       "'male'"
      ]
     },
     "execution_count": 41,
     "metadata": {},
     "output_type": "execute_result"
    }
   ],
   "source": [
    "g1.show_gender()"
   ]
  },
  {
   "cell_type": "code",
   "execution_count": null,
   "id": "a09b7216-7ec8-4f0d-b179-ced317e8797e",
   "metadata": {},
   "outputs": [],
   "source": []
  }
 ],
 "metadata": {
  "kernelspec": {
   "display_name": "Python 3 (ipykernel)",
   "language": "python",
   "name": "python3"
  },
  "language_info": {
   "codemirror_mode": {
    "name": "ipython",
    "version": 3
   },
   "file_extension": ".py",
   "mimetype": "text/x-python",
   "name": "python",
   "nbconvert_exporter": "python",
   "pygments_lexer": "ipython3",
   "version": "3.10.8"
  }
 },
 "nbformat": 4,
 "nbformat_minor": 5
}
